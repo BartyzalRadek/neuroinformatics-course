{
 "cells": [
  {
   "cell_type": "code",
   "execution_count": 10,
   "metadata": {},
   "outputs": [],
   "source": [
    "%matplotlib inline\n",
    "import matplotlib.pyplot as plt\n",
    "import numpy as np"
   ]
  },
  {
   "cell_type": "code",
   "execution_count": 3,
   "metadata": {},
   "outputs": [],
   "source": [
    "import tensorflow as tf\n",
    "import tensorflow.contrib.keras as keras\n",
    "\n",
    "from tensorflow.contrib.keras import backend as K"
   ]
  },
  {
   "cell_type": "code",
   "execution_count": 6,
   "metadata": {},
   "outputs": [],
   "source": [
    "from tensorflow.contrib.keras.python.keras.models import Sequential\n",
    "from tensorflow.contrib.keras.python.keras.layers import Dense, Dropout, Flatten"
   ]
  },
  {
   "cell_type": "code",
   "execution_count": 7,
   "metadata": {},
   "outputs": [],
   "source": [
    "from enum import Enum\n",
    "class Dataset(Enum):\n",
    "    AND_GRID = 0 #Basic AND function\n",
    "    BASIC_GRID = 1 #Basic grid 4x4 with 8xO and 8xX\n",
    "    BOOL_FUNC = 2 #Boolean function of 5 variables\n",
    "    POLYGON = 3 #Polygon shape dividing 2D grid to 2 classes\n",
    "    MULTI_CLASS = 4 #Function dividing 2D grid to 8 classes\n",
    "    ONE_DIM = 5 #One dimensional function\n",
    "    ONE_DIM_MEMORY = 6 #One dimensional function with memory"
   ]
  },
  {
   "cell_type": "code",
   "execution_count": 5,
   "metadata": {},
   "outputs": [
    {
     "name": "stdout",
     "output_type": "stream",
     "text": [
      "TensorFlow version = 1.3.0\n",
      "Keras backend = tensorflow\n",
      "Default float type = float32\n",
      "Image data structure = channels_last\n"
     ]
    }
   ],
   "source": [
    "print(\"TensorFlow version =\", tf.__version__)\n",
    "print(\"Keras backend =\", keras.backend.backend())\n",
    "print(\"Default float type =\", keras.backend.floatx())\n",
    "print(\"Image data structure =\", keras.backend.image_data_format())"
   ]
  },
  {
   "cell_type": "code",
   "execution_count": 8,
   "metadata": {},
   "outputs": [],
   "source": [
    "def load_train_data(dataset):\n",
    "    x_all = np.loadtxt('data/' + dataset.name + '_xs.txt')\n",
    "    print(\"Loaded\",x_all.shape[0],\"examples from\", 'data/' + dataset.name + '_xs.txt')\n",
    "    y_all = np.loadtxt('data/' + dataset.name + '_ys.txt')\n",
    "    print(\"Loaded\",y_all.shape[0],\"labels from\", 'data/' + dataset.name + '_ys.txt')\n",
    "    return x_all, y_all"
   ]
  },
  {
   "cell_type": "code",
   "execution_count": 28,
   "metadata": {},
   "outputs": [],
   "source": [
    "def prepare_train_data(dataset, train_ratio=0.7):\n",
    "    x_all, y_all = load_train_data(dataset)\n",
    "    assert(x_all.shape[0] == y_all.shape[0])\n",
    "    \n",
    "    z_all = np.append(x_all, y_all.reshape((y_all.shape[0],1)), axis=1)\n",
    "    z_all = z_all.astype('float32')\n",
    "    np.random.seed(0)\n",
    "    np.random.shuffle(z_all)\n",
    "    \n",
    "    train_size = math.floor(x_all.shape[0] * train_ratio)\n",
    "    test_size = x_all.shape[0] - train_size\n",
    "    \n",
    "    x_train = z_all[0:train_size, 0:x_all.shape[1]]\n",
    "    y_train = z_all[0:train_size, -1]\n",
    "    x_test = z_all[train_size:, 0:x_all.shape[1]]\n",
    "    y_test = z_all[train_size:, -1]\n",
    "    print(\"Prepared training data for dataset\", dataset.name)\n",
    "    print(\"x_train: shape =\", x_train.shape, \"dtype =\", x_train.dtype)\n",
    "    print(\"y_train: shape =\", y_train.shape, \"dtype =\", y_train.dtype)\n",
    "    print(\"x_test: shape =\", x_test.shape, \"dtype =\", x_test.dtype)\n",
    "    print(\"y_test: shape =\", y_test.shape, \"dtype =\", y_test.dtype)\n",
    "    return x_train, y_train, x_test, y_test"
   ]
  },
  {
   "cell_type": "code",
   "execution_count": 11,
   "metadata": {},
   "outputs": [
    {
     "name": "stdout",
     "output_type": "stream",
     "text": [
      "Loaded 10000 examples from data/BASIC_GRID_xs.txt\n",
      "Loaded 10000 labels from data/BASIC_GRID_ys.txt\n"
     ]
    }
   ],
   "source": [
    "x_all, y_all = load_train_data(Dataset.BASIC_GRID)"
   ]
  },
  {
   "cell_type": "code",
   "execution_count": 27,
   "metadata": {},
   "outputs": [
    {
     "data": {
      "text/plain": [
       "2"
      ]
     },
     "execution_count": 27,
     "metadata": {},
     "output_type": "execute_result"
    }
   ],
   "source": [
    "x_all.shape[1]"
   ]
  },
  {
   "cell_type": "code",
   "execution_count": 15,
   "metadata": {},
   "outputs": [
    {
     "data": {
      "text/plain": [
       "array([[ 0.     ,  0.     ],\n",
       "       [ 0.0404 ,  0.     ],\n",
       "       [ 0.08081,  0.     ],\n",
       "       ..., \n",
       "       [ 3.91919,  4.     ],\n",
       "       [ 3.9596 ,  4.     ],\n",
       "       [ 4.     ,  4.     ]])"
      ]
     },
     "execution_count": 15,
     "metadata": {},
     "output_type": "execute_result"
    }
   ],
   "source": [
    "x_all"
   ]
  },
  {
   "cell_type": "code",
   "execution_count": 18,
   "metadata": {},
   "outputs": [],
   "source": [
    "y_all = y_all.reshape((10000,1))\n"
   ]
  },
  {
   "cell_type": "code",
   "execution_count": 24,
   "metadata": {},
   "outputs": [
    {
     "data": {
      "text/plain": [
       "10000"
      ]
     },
     "execution_count": 24,
     "metadata": {},
     "output_type": "execute_result"
    }
   ],
   "source": [
    "y_all.shape[0]"
   ]
  },
  {
   "cell_type": "code",
   "execution_count": 19,
   "metadata": {},
   "outputs": [
    {
     "data": {
      "text/plain": [
       "array([[ 0.     ,  0.     ,  1.     ],\n",
       "       [ 0.0404 ,  0.     ,  1.     ],\n",
       "       [ 0.08081,  0.     ,  1.     ],\n",
       "       ..., \n",
       "       [ 3.91919,  4.     ,  1.     ],\n",
       "       [ 3.9596 ,  4.     ,  1.     ],\n",
       "       [ 4.     ,  4.     ,  0.     ]])"
      ]
     },
     "execution_count": 19,
     "metadata": {},
     "output_type": "execute_result"
    }
   ],
   "source": [
    "z_all = np.append(x_all, y_all.reshape((y_all.shape[0],1)), axis=1)\n",
    "z_all"
   ]
  },
  {
   "cell_type": "code",
   "execution_count": null,
   "metadata": {},
   "outputs": [],
   "source": []
  }
 ],
 "metadata": {
  "kernelspec": {
   "display_name": "TF_1.3_Python3",
   "language": "python",
   "name": "tensorflow"
  },
  "language_info": {
   "codemirror_mode": {
    "name": "ipython",
    "version": 3
   },
   "file_extension": ".py",
   "mimetype": "text/x-python",
   "name": "python",
   "nbconvert_exporter": "python",
   "pygments_lexer": "ipython3",
   "version": "3.5.2"
  }
 },
 "nbformat": 4,
 "nbformat_minor": 2
}
