{
 "cells": [
  {
   "cell_type": "code",
   "execution_count": 1,
   "metadata": {},
   "outputs": [],
   "source": [
    "%matplotlib inline\n",
    "import matplotlib.pyplot as plt\n",
    "import numpy as np"
   ]
  },
  {
   "cell_type": "code",
   "execution_count": 2,
   "metadata": {},
   "outputs": [],
   "source": [
    "import tensorflow as tf\n",
    "import tensorflow.contrib.keras as keras\n",
    "\n",
    "from tensorflow.contrib.keras import backend as K\n",
    "from tensorflow.contrib.keras.python.keras.models import Sequential\n",
    "from tensorflow.contrib.keras.python.keras.layers import Dense, Dropout, Flatten"
   ]
  },
  {
   "cell_type": "code",
   "execution_count": 88,
   "metadata": {},
   "outputs": [],
   "source": [
    "import time"
   ]
  },
  {
   "cell_type": "code",
   "execution_count": 3,
   "metadata": {},
   "outputs": [],
   "source": [
    "from enum import Enum\n",
    "import math\n",
    "class Dataset(Enum):\n",
    "    AND_GRID = 0 #Basic AND function\n",
    "    BASIC_GRID = 1 #Basic grid 4x4 with 8xO and 8xX\n",
    "    BOOL_FUNC = 2 #Boolean function of 5 variables\n",
    "    POLYGON = 3 #Polygon shape dividing 2D grid to 2 classes\n",
    "    MULTI_CLASS = 4 #Function dividing 2D grid to 8 classes\n",
    "    ONE_DIM = 5 #One dimensional function\n",
    "    ONE_DIM_MEMORY = 6 #One dimensional function with memory\n",
    "\n",
    "def get_num_classes(dataset):\n",
    "    n = 2\n",
    "    if dataset == Dataset.MULTI_CLASS:\n",
    "        n = 8\n",
    "    elif dataset in [Dataset.ONE_DIM, Dataset.ONE_DIM_MEMORY]:\n",
    "        n = 1\n",
    "    return n"
   ]
  },
  {
   "cell_type": "code",
   "execution_count": 4,
   "metadata": {},
   "outputs": [
    {
     "name": "stdout",
     "output_type": "stream",
     "text": [
      "TensorFlow version = 1.3.0\n",
      "Keras backend = tensorflow\n",
      "Default float type = float32\n",
      "Image data structure = channels_last\n"
     ]
    }
   ],
   "source": [
    "print(\"TensorFlow version =\", tf.__version__)\n",
    "print(\"Keras backend =\", keras.backend.backend())\n",
    "print(\"Default float type =\", keras.backend.floatx())\n",
    "print(\"Image data structure =\", keras.backend.image_data_format())"
   ]
  },
  {
   "cell_type": "code",
   "execution_count": 5,
   "metadata": {},
   "outputs": [],
   "source": [
    "def load_train_data(dataset, no_points):\n",
    "    x_all = np.loadtxt('data/' + dataset.name + \"_\" + str(no_points) + '_xs.txt')\n",
    "    print(\"Loaded\",x_all.shape,\"examples from\", 'data/' + dataset.name + \"_\" + str(no_points) + '_xs.txt')\n",
    "    y_all = np.loadtxt('data/' + dataset.name + \"_\" + str(no_points) + '_ys.txt')\n",
    "    print(\"Loaded\",y_all.shape,\"labels from\", 'data/' + dataset.name + \"_\" + str(no_points) + '_ys.txt')\n",
    "    return x_all, y_all"
   ]
  },
  {
   "cell_type": "code",
   "execution_count": 6,
   "metadata": {},
   "outputs": [],
   "source": [
    "def prepare_train_data(dataset, no_points=10000, train_ratio=0.7):\n",
    "    print(\"Preparing training data for dataset\", dataset.name)\n",
    "    x_all, y_all = load_train_data(dataset, no_points)\n",
    "    assert(x_all.shape[0] == y_all.shape[0])\n",
    "    \n",
    "    if x_all.ndim == 1:\n",
    "        x_all = x_all.reshape((x_all.shape[0],1))\n",
    "    z_all = np.append(x_all, y_all.reshape((y_all.shape[0],1)), axis=1)\n",
    "    #z_all = z_all.astype('float32')\n",
    "    np.random.seed(0)\n",
    "    np.random.shuffle(z_all)\n",
    "    \n",
    "    train_size = math.floor(x_all.shape[0] * train_ratio)\n",
    "    test_size = x_all.shape[0] - train_size\n",
    "    num_classes = get_num_classes(dataset)\n",
    "    print(\"Number of classes =\", num_classes)\n",
    "    \n",
    "    x_train = z_all[0:train_size, 0:x_all.shape[1]]\n",
    "    y_train = z_all[0:train_size, -1]\n",
    "    x_test = z_all[train_size:, 0:x_all.shape[1]]\n",
    "    y_test = z_all[train_size:, -1]\n",
    "    \n",
    "    if num_classes > 1:\n",
    "        print(\"Changing labels to one-hot encoding...\")\n",
    "        print('y_train[0] before changing to one-hot-encoding: ', y_train[0])\n",
    "        y_train = keras.utils.to_categorical(y_train, num_classes)\n",
    "        y_test = keras.utils.to_categorical(y_test, num_classes)\n",
    "        print('y_train[0] after changing to one-hot-encoding: ', y_train[0])\n",
    "    elif num_classes == 1:\n",
    "        print(\"Normalizing outputs of a real function to be approximated...\")\n",
    "        y_max = z_all[:,-1].max()\n",
    "        print(\"Previous y_max =\", y_max,\"y_min =\",z_all[:,-1].min())\n",
    "        z_all[:,-1] += y_max\n",
    "        z_all[:,-1] /= 2.0 * y_max\n",
    "        y_train = z_all[0:train_size, -1]\n",
    "        y_test = z_all[train_size:, -1]\n",
    "        print(\"After normalization y_max =\", z_all[:,-1].max(),\"y_min =\",z_all[:,-1].min())\n",
    "    \n",
    "    print(\"\\nReturning:\")\n",
    "    print(\"x_train: shape =\", x_train.shape, \"dtype =\", x_train.dtype)\n",
    "    print(\"y_train: shape =\", y_train.shape, \"dtype =\", y_train.dtype)\n",
    "    print(\"x_test: shape =\", x_test.shape, \"dtype =\", x_test.dtype)\n",
    "    print(\"y_test: shape =\", y_test.shape, \"dtype =\", y_test.dtype)\n",
    "    return x_train, y_train, x_test, y_test, num_classes"
   ]
  },
  {
   "cell_type": "code",
   "execution_count": 14,
   "metadata": {},
   "outputs": [],
   "source": [
    "def test_model(model, x_test, y_test):\n",
    "    if len(x_test) > 0:\n",
    "        score = model.evaluate(x_test, y_test, verbose=0)\n",
    "        print('Test loss:', score[0])\n",
    "        print('Test accuracy:', score[1])\n",
    "    else:\n",
    "        print(\"Cannot test model: No test data supplied.\")"
   ]
  },
  {
   "cell_type": "code",
   "execution_count": 137,
   "metadata": {},
   "outputs": [],
   "source": [
    "def train_model(model, batch_size, epochs, x_train, y_train, x_test, y_test, plot_outputs=True, plot_epochs=500):\n",
    "    print(\"==== Training ====\")\n",
    "    start_time = time.time()\n",
    "    y_predicts = []\n",
    "    if plot_outputs:\n",
    "        epochs_done = 0\n",
    "        while epochs_done < epochs:\n",
    "            epoch_start_time = time.time()\n",
    "            model.fit(x_train, y_train,\n",
    "                  batch_size=batch_size,\n",
    "                  epochs=plot_epochs,\n",
    "                  verbose=0\n",
    "                      #,validation_data=(x_test, y_test) #This calculates validation on test set after each epoch = too slow\n",
    "                     )\n",
    "            epochs_done += plot_epochs\n",
    "            y_pred = model.predict(x_train)\n",
    "            y_predicts.append(y_pred)\n",
    "            print(\"After\",epochs_done,\"epochs:\")\n",
    "            print(plot_epochs,\"epochs time =\", time.time() - epoch_start_time)\n",
    "            test_model(model, x_test, y_test)\n",
    "            plot_output(x_train, y_pred, y_train)\n",
    "    else:\n",
    "        model.fit(x_train, y_train,\n",
    "                  batch_size=batch_size,\n",
    "                  epochs=epochs,\n",
    "                  verbose=0)\n",
    "        y_pred = model.predict(x_train)\n",
    "        y_predicts.append(y_pred)\n",
    "        \n",
    "    test_model(model, x_test, y_test)\n",
    "    elapsed_time = time.time() - start_time\n",
    "    print(\"Total time =\", elapsed_time)\n",
    "    return y_predicts"
   ]
  },
  {
   "cell_type": "code",
   "execution_count": 53,
   "metadata": {},
   "outputs": [],
   "source": [
    "def plot_output(x_train, y_predicted, y_train):\n",
    "    if x_train.shape[1] > 1:\n",
    "        plt.scatter(x_train.T[0],x_train.T[1],c=np.argmax(y_predicted, axis=1))\n",
    "        plt.title(\"ANN output for training data\")\n",
    "    else:\n",
    "        z_train = np.append(x_train, y_train.reshape((y_train.shape[0],1)), axis=1)\n",
    "        z_pred = np.append(x_train, y_predicted.reshape((y_predicted.shape[0],1)), axis=1)\n",
    "        z_train = z_train[z_train[:,0].argsort()] #Sort acc to 1st column = x values\n",
    "        z_pred = z_pred[z_pred[:,0].argsort()]\n",
    "        plt.plot(z_train[:,0], z_train[:,1], 'b-', z_pred[:,0], z_pred[:,1], 'r--')\n",
    "        plt.title(\"ANN output (red) VS training data (blue)\")\n",
    "        \n",
    "    plt.show()"
   ]
  },
  {
   "cell_type": "code",
   "execution_count": 74,
   "metadata": {},
   "outputs": [],
   "source": [
    "def plot_train_data(x_train, y_train):\n",
    "    if y_train.ndim >= 2:\n",
    "        plt.scatter(x_train.T[0],x_train.T[1],c=np.argmax(y_train, axis=1))\n",
    "    else:\n",
    "        z = np.append(x_train, y_train.reshape((y_train.shape[0],1)), axis=1)\n",
    "        z = z[z[:,0].argsort()]\n",
    "        plt.plot(z[:,0], z[:,1], 'b-')\n",
    "        \n",
    "    plt.title(\"Training data\")\n",
    "    plt.show()"
   ]
  },
  {
   "cell_type": "code",
   "execution_count": 133,
   "metadata": {},
   "outputs": [],
   "source": [
    "def get_new_model(dataset, x_train, num_classes):\n",
    "    model = Sequential()\n",
    "    if dataset in [Dataset.AND_GRID, Dataset.BASIC_GRID, Dataset.POLYGON, Dataset.MULTI_CLASS]:\n",
    "        if dataset == Dataset.AND_GRID:\n",
    "            model.add(Dense(5, input_shape=x_train[0].shape, activation='sigmoid'))\n",
    "\n",
    "        if dataset in [Dataset.BASIC_GRID, Dataset.POLYGON, Dataset.MULTI_CLASS]:\n",
    "            model.add(Dense(10, input_shape=x_train[0].shape, activation='sigmoid'))\n",
    "            model.add(Dense(5, activation='sigmoid'))\n",
    "            \n",
    "        model.add(Dense(num_classes, activation='softmax'))\n",
    "        model.compile(loss=keras.losses.categorical_crossentropy,\n",
    "                optimizer=keras.optimizers.SGD(lr=0.1),\n",
    "                metrics=['accuracy'])\n",
    "        \n",
    "    elif dataset == Dataset.ONE_DIM:\n",
    "        model.add(Dense(10, input_shape=x_train[0].shape, activation='sigmoid'))\n",
    "        #model.add(Dense(5, activation='sigmoid'))\n",
    "        model.add(Dense(1, activation='sigmoid'))\n",
    "        \n",
    "        model.compile(loss=keras.losses.mean_squared_error,\n",
    "                optimizer=keras.optimizers.SGD(lr=10.0),\n",
    "                metrics=['mean_squared_error'])\n",
    "    else:\n",
    "        model = None\n",
    "        print(\"Not defined yet.\")\n",
    "    \n",
    "    return model"
   ]
  },
  {
   "cell_type": "code",
   "execution_count": 104,
   "metadata": {},
   "outputs": [
    {
     "name": "stdout",
     "output_type": "stream",
     "text": [
      "Preparing training data for dataset ONE_DIM\n",
      "Loaded (900,) examples from data/ONE_DIM_900_xs.txt\n",
      "Loaded (900,) labels from data/ONE_DIM_900_ys.txt\n",
      "Number of classes = 1\n",
      "Normalizing outputs of a real function to be approximated...\n",
      "Previous y_max = 0.99999 y_min = -1.0\n",
      "After normalization y_max = 1.0 y_min = -5.00005000048e-06\n",
      "\n",
      "Returning:\n",
      "x_train: shape = (900, 1) dtype = float64\n",
      "y_train: shape = (900,) dtype = float64\n",
      "x_test: shape = (0, 1) dtype = float64\n",
      "y_test: shape = (0,) dtype = float64\n"
     ]
    }
   ],
   "source": [
    "dataset = Dataset.ONE_DIM\n",
    "x_train, y_train, x_test, y_test, num_classes = prepare_train_data(dataset, no_points=900, train_ratio=1.0)"
   ]
  },
  {
   "cell_type": "code",
   "execution_count": 134,
   "metadata": {},
   "outputs": [],
   "source": [
    "model = get_new_model(dataset, x_train, num_classes)"
   ]
  },
  {
   "cell_type": "code",
   "execution_count": 135,
   "metadata": {},
   "outputs": [],
   "source": [
    "batch_size = 10\n",
    "epochs = 4000"
   ]
  },
  {
   "cell_type": "code",
   "execution_count": 136,
   "metadata": {},
   "outputs": [
    {
     "name": "stdout",
     "output_type": "stream",
     "text": [
      "==== Training ====\n",
      "After 1000 epochs:\n",
      "Epoch time = 146.92374753952026\n",
      "Cannot test model: No test data supplied.\n"
     ]
    },
    {
     "data": {
      "image/png": "[encoded data removed]",
      "text/plain": [
       "<matplotlib.figure.Figure at 0x7f94d2790c18>"
      ]
     },
     "metadata": {},
     "output_type": "display_data"
    },
    {
     "ename": "KeyboardInterrupt",
     "evalue": "",
     "output_type": "error",
     "traceback": [
      "\u001b[0;31m---------------------------------------------------------------------------\u001b[0m",
      "\u001b[0;31mKeyboardInterrupt\u001b[0m                         Traceback (most recent call last)",
      "\u001b[0;32m<ipython-input-136-9ac075efd1fa>\u001b[0m in \u001b[0;36m<module>\u001b[0;34m()\u001b[0m\n\u001b[1;32m      1\u001b[0m \u001b[0;31m#y_predicted = train_model(model, batch_size, epochs, x_train[0:20], y_train[0:20], x_test[0:20], y_test[0:20])\u001b[0m\u001b[0;34m\u001b[0m\u001b[0;34m\u001b[0m\u001b[0m\n\u001b[0;32m----> 2\u001b[0;31m \u001b[0my_predicts\u001b[0m \u001b[0;34m=\u001b[0m \u001b[0mtrain_model\u001b[0m\u001b[0;34m(\u001b[0m\u001b[0mmodel\u001b[0m\u001b[0;34m,\u001b[0m \u001b[0mbatch_size\u001b[0m\u001b[0;34m,\u001b[0m \u001b[0mepochs\u001b[0m\u001b[0;34m,\u001b[0m \u001b[0mx_train\u001b[0m\u001b[0;34m,\u001b[0m \u001b[0my_train\u001b[0m\u001b[0;34m,\u001b[0m \u001b[0mx_test\u001b[0m\u001b[0;34m,\u001b[0m \u001b[0my_test\u001b[0m\u001b[0;34m,\u001b[0m \u001b[0mplot_epochs\u001b[0m\u001b[0;34m=\u001b[0m\u001b[0;36m1000\u001b[0m\u001b[0;34m)\u001b[0m\u001b[0;34m\u001b[0m\u001b[0m\n\u001b[0m",
      "\u001b[0;32m<ipython-input-94-154f20ccf4c2>\u001b[0m in \u001b[0;36mtrain_model\u001b[0;34m(model, batch_size, epochs, x_train, y_train, x_test, y_test, plot_outputs, plot_epochs)\u001b[0m\n\u001b[1;32m     10\u001b[0m                   \u001b[0mbatch_size\u001b[0m\u001b[0;34m=\u001b[0m\u001b[0mbatch_size\u001b[0m\u001b[0;34m,\u001b[0m\u001b[0;34m\u001b[0m\u001b[0m\n\u001b[1;32m     11\u001b[0m                   \u001b[0mepochs\u001b[0m\u001b[0;34m=\u001b[0m\u001b[0mplot_epochs\u001b[0m\u001b[0;34m,\u001b[0m\u001b[0;34m\u001b[0m\u001b[0m\n\u001b[0;32m---> 12\u001b[0;31m                   \u001b[0mverbose\u001b[0m\u001b[0;34m=\u001b[0m\u001b[0;36m0\u001b[0m\u001b[0;34m\u001b[0m\u001b[0m\n\u001b[0m\u001b[1;32m     13\u001b[0m                       \u001b[0;31m#,validation_data=(x_test, y_test) #This calculates validation on test set after each epoch = too slow\u001b[0m\u001b[0;34m\u001b[0m\u001b[0;34m\u001b[0m\u001b[0m\n\u001b[1;32m     14\u001b[0m                      )\n",
      "\u001b[0;32m~/PyCharmProjects/tensorflow/lib/python3.5/site-packages/tensorflow/contrib/keras/python/keras/models.py\u001b[0m in \u001b[0;36mfit\u001b[0;34m(self, x, y, batch_size, epochs, verbose, callbacks, validation_split, validation_data, shuffle, class_weight, sample_weight, initial_epoch)\u001b[0m\n\u001b[1;32m    852\u001b[0m         \u001b[0mclass_weight\u001b[0m\u001b[0;34m=\u001b[0m\u001b[0mclass_weight\u001b[0m\u001b[0;34m,\u001b[0m\u001b[0;34m\u001b[0m\u001b[0m\n\u001b[1;32m    853\u001b[0m         \u001b[0msample_weight\u001b[0m\u001b[0;34m=\u001b[0m\u001b[0msample_weight\u001b[0m\u001b[0;34m,\u001b[0m\u001b[0;34m\u001b[0m\u001b[0m\n\u001b[0;32m--> 854\u001b[0;31m         initial_epoch=initial_epoch)\n\u001b[0m\u001b[1;32m    855\u001b[0m \u001b[0;34m\u001b[0m\u001b[0m\n\u001b[1;32m    856\u001b[0m   \u001b[0;32mdef\u001b[0m \u001b[0mevaluate\u001b[0m\u001b[0;34m(\u001b[0m\u001b[0mself\u001b[0m\u001b[0;34m,\u001b[0m \u001b[0mx\u001b[0m\u001b[0;34m,\u001b[0m \u001b[0my\u001b[0m\u001b[0;34m,\u001b[0m \u001b[0mbatch_size\u001b[0m\u001b[0;34m=\u001b[0m\u001b[0;36m32\u001b[0m\u001b[0;34m,\u001b[0m \u001b[0mverbose\u001b[0m\u001b[0;34m=\u001b[0m\u001b[0;36m1\u001b[0m\u001b[0;34m,\u001b[0m \u001b[0msample_weight\u001b[0m\u001b[0;34m=\u001b[0m\u001b[0;32mNone\u001b[0m\u001b[0;34m)\u001b[0m\u001b[0;34m:\u001b[0m\u001b[0;34m\u001b[0m\u001b[0m\n",
      "\u001b[0;32m~/PyCharmProjects/tensorflow/lib/python3.5/site-packages/tensorflow/contrib/keras/python/keras/engine/training.py\u001b[0m in \u001b[0;36mfit\u001b[0;34m(self, x, y, batch_size, epochs, verbose, callbacks, validation_split, validation_data, shuffle, class_weight, sample_weight, initial_epoch)\u001b[0m\n\u001b[1;32m   1440\u001b[0m         \u001b[0mshuffle\u001b[0m\u001b[0;34m=\u001b[0m\u001b[0mshuffle\u001b[0m\u001b[0;34m,\u001b[0m\u001b[0;34m\u001b[0m\u001b[0m\n\u001b[1;32m   1441\u001b[0m         \u001b[0mcallback_metrics\u001b[0m\u001b[0;34m=\u001b[0m\u001b[0mcallback_metrics\u001b[0m\u001b[0;34m,\u001b[0m\u001b[0;34m\u001b[0m\u001b[0m\n\u001b[0;32m-> 1442\u001b[0;31m         initial_epoch=initial_epoch)\n\u001b[0m\u001b[1;32m   1443\u001b[0m \u001b[0;34m\u001b[0m\u001b[0m\n\u001b[1;32m   1444\u001b[0m   \u001b[0;32mdef\u001b[0m \u001b[0mevaluate\u001b[0m\u001b[0;34m(\u001b[0m\u001b[0mself\u001b[0m\u001b[0;34m,\u001b[0m \u001b[0mx\u001b[0m\u001b[0;34m,\u001b[0m \u001b[0my\u001b[0m\u001b[0;34m,\u001b[0m \u001b[0mbatch_size\u001b[0m\u001b[0;34m=\u001b[0m\u001b[0;36m32\u001b[0m\u001b[0;34m,\u001b[0m \u001b[0mverbose\u001b[0m\u001b[0;34m=\u001b[0m\u001b[0;36m1\u001b[0m\u001b[0;34m,\u001b[0m \u001b[0msample_weight\u001b[0m\u001b[0;34m=\u001b[0m\u001b[0;32mNone\u001b[0m\u001b[0;34m)\u001b[0m\u001b[0;34m:\u001b[0m\u001b[0;34m\u001b[0m\u001b[0m\n",
      "\u001b[0;32m~/PyCharmProjects/tensorflow/lib/python3.5/site-packages/tensorflow/contrib/keras/python/keras/engine/training.py\u001b[0m in \u001b[0;36m_fit_loop\u001b[0;34m(self, f, ins, out_labels, batch_size, epochs, verbose, callbacks, val_f, val_ins, shuffle, callback_metrics, initial_epoch)\u001b[0m\n\u001b[1;32m   1077\u001b[0m         \u001b[0mbatch_logs\u001b[0m\u001b[0;34m[\u001b[0m\u001b[0;34m'size'\u001b[0m\u001b[0;34m]\u001b[0m \u001b[0;34m=\u001b[0m \u001b[0mlen\u001b[0m\u001b[0;34m(\u001b[0m\u001b[0mbatch_ids\u001b[0m\u001b[0;34m)\u001b[0m\u001b[0;34m\u001b[0m\u001b[0m\n\u001b[1;32m   1078\u001b[0m         \u001b[0mcallbacks\u001b[0m\u001b[0;34m.\u001b[0m\u001b[0mon_batch_begin\u001b[0m\u001b[0;34m(\u001b[0m\u001b[0mbatch_index\u001b[0m\u001b[0;34m,\u001b[0m \u001b[0mbatch_logs\u001b[0m\u001b[0;34m)\u001b[0m\u001b[0;34m\u001b[0m\u001b[0m\n\u001b[0;32m-> 1079\u001b[0;31m         \u001b[0mouts\u001b[0m \u001b[0;34m=\u001b[0m \u001b[0mf\u001b[0m\u001b[0;34m(\u001b[0m\u001b[0mins_batch\u001b[0m\u001b[0;34m)\u001b[0m\u001b[0;34m\u001b[0m\u001b[0m\n\u001b[0m\u001b[1;32m   1080\u001b[0m         \u001b[0;32mif\u001b[0m \u001b[0;32mnot\u001b[0m \u001b[0misinstance\u001b[0m\u001b[0;34m(\u001b[0m\u001b[0mouts\u001b[0m\u001b[0;34m,\u001b[0m \u001b[0mlist\u001b[0m\u001b[0;34m)\u001b[0m\u001b[0;34m:\u001b[0m\u001b[0;34m\u001b[0m\u001b[0m\n\u001b[1;32m   1081\u001b[0m           \u001b[0mouts\u001b[0m \u001b[0;34m=\u001b[0m \u001b[0;34m[\u001b[0m\u001b[0mouts\u001b[0m\u001b[0;34m]\u001b[0m\u001b[0;34m\u001b[0m\u001b[0m\n",
      "\u001b[0;32m~/PyCharmProjects/tensorflow/lib/python3.5/site-packages/tensorflow/contrib/keras/python/keras/backend.py\u001b[0m in \u001b[0;36m__call__\u001b[0;34m(self, inputs)\u001b[0m\n\u001b[1;32m   2411\u001b[0m         \u001b[0mself\u001b[0m\u001b[0;34m.\u001b[0m\u001b[0moutputs\u001b[0m \u001b[0;34m+\u001b[0m \u001b[0;34m[\u001b[0m\u001b[0mself\u001b[0m\u001b[0;34m.\u001b[0m\u001b[0mupdates_op\u001b[0m\u001b[0;34m]\u001b[0m\u001b[0;34m,\u001b[0m\u001b[0;34m\u001b[0m\u001b[0m\n\u001b[1;32m   2412\u001b[0m         \u001b[0mfeed_dict\u001b[0m\u001b[0;34m=\u001b[0m\u001b[0mfeed_dict\u001b[0m\u001b[0;34m,\u001b[0m\u001b[0;34m\u001b[0m\u001b[0m\n\u001b[0;32m-> 2413\u001b[0;31m         **self.session_kwargs)\n\u001b[0m\u001b[1;32m   2414\u001b[0m     \u001b[0;32mreturn\u001b[0m \u001b[0mupdated\u001b[0m\u001b[0;34m[\u001b[0m\u001b[0;34m:\u001b[0m\u001b[0mlen\u001b[0m\u001b[0;34m(\u001b[0m\u001b[0mself\u001b[0m\u001b[0;34m.\u001b[0m\u001b[0moutputs\u001b[0m\u001b[0;34m)\u001b[0m\u001b[0;34m]\u001b[0m\u001b[0;34m\u001b[0m\u001b[0m\n\u001b[1;32m   2415\u001b[0m \u001b[0;34m\u001b[0m\u001b[0m\n",
      "\u001b[0;32m~/PyCharmProjects/tensorflow/lib/python3.5/site-packages/tensorflow/python/client/session.py\u001b[0m in \u001b[0;36mrun\u001b[0;34m(self, fetches, feed_dict, options, run_metadata)\u001b[0m\n\u001b[1;32m    893\u001b[0m     \u001b[0;32mtry\u001b[0m\u001b[0;34m:\u001b[0m\u001b[0;34m\u001b[0m\u001b[0m\n\u001b[1;32m    894\u001b[0m       result = self._run(None, fetches, feed_dict, options_ptr,\n\u001b[0;32m--> 895\u001b[0;31m                          run_metadata_ptr)\n\u001b[0m\u001b[1;32m    896\u001b[0m       \u001b[0;32mif\u001b[0m \u001b[0mrun_metadata\u001b[0m\u001b[0;34m:\u001b[0m\u001b[0;34m\u001b[0m\u001b[0m\n\u001b[1;32m    897\u001b[0m         \u001b[0mproto_data\u001b[0m \u001b[0;34m=\u001b[0m \u001b[0mtf_session\u001b[0m\u001b[0;34m.\u001b[0m\u001b[0mTF_GetBuffer\u001b[0m\u001b[0;34m(\u001b[0m\u001b[0mrun_metadata_ptr\u001b[0m\u001b[0;34m)\u001b[0m\u001b[0;34m\u001b[0m\u001b[0m\n",
      "\u001b[0;32m~/PyCharmProjects/tensorflow/lib/python3.5/site-packages/tensorflow/python/client/session.py\u001b[0m in \u001b[0;36m_run\u001b[0;34m(self, handle, fetches, feed_dict, options, run_metadata)\u001b[0m\n\u001b[1;32m   1103\u001b[0m \u001b[0;34m\u001b[0m\u001b[0m\n\u001b[1;32m   1104\u001b[0m           \u001b[0mfeed_dict_tensor\u001b[0m\u001b[0;34m[\u001b[0m\u001b[0msubfeed_t\u001b[0m\u001b[0;34m]\u001b[0m \u001b[0;34m=\u001b[0m \u001b[0mnp_val\u001b[0m\u001b[0;34m\u001b[0m\u001b[0m\n\u001b[0;32m-> 1105\u001b[0;31m           \u001b[0mfeed_map\u001b[0m\u001b[0;34m[\u001b[0m\u001b[0mcompat\u001b[0m\u001b[0;34m.\u001b[0m\u001b[0mas_bytes\u001b[0m\u001b[0;34m(\u001b[0m\u001b[0msubfeed_t\u001b[0m\u001b[0;34m.\u001b[0m\u001b[0mname\u001b[0m\u001b[0;34m)\u001b[0m\u001b[0;34m]\u001b[0m \u001b[0;34m=\u001b[0m \u001b[0;34m(\u001b[0m\u001b[0msubfeed_t\u001b[0m\u001b[0;34m,\u001b[0m \u001b[0msubfeed_val\u001b[0m\u001b[0;34m)\u001b[0m\u001b[0;34m\u001b[0m\u001b[0m\n\u001b[0m\u001b[1;32m   1106\u001b[0m \u001b[0;34m\u001b[0m\u001b[0m\n\u001b[1;32m   1107\u001b[0m     \u001b[0;31m# Create a fetch handler to take care of the structure of fetches.\u001b[0m\u001b[0;34m\u001b[0m\u001b[0;34m\u001b[0m\u001b[0m\n",
      "\u001b[0;32m~/PyCharmProjects/tensorflow/lib/python3.5/site-packages/tensorflow/python/util/compat.py\u001b[0m in \u001b[0;36mas_bytes\u001b[0;34m(bytes_or_text, encoding)\u001b[0m\n\u001b[1;32m     57\u001b[0m     \u001b[0mTypeError\u001b[0m\u001b[0;34m:\u001b[0m \u001b[0mIf\u001b[0m\u001b[0;31m \u001b[0m\u001b[0;31m`\u001b[0m\u001b[0mbytes_or_text\u001b[0m\u001b[0;31m`\u001b[0m \u001b[0;32mis\u001b[0m \u001b[0;32mnot\u001b[0m \u001b[0ma\u001b[0m \u001b[0mbinary\u001b[0m \u001b[0;32mor\u001b[0m \u001b[0municode\u001b[0m \u001b[0mstring\u001b[0m\u001b[0;34m.\u001b[0m\u001b[0;34m\u001b[0m\u001b[0m\n\u001b[1;32m     58\u001b[0m   \"\"\"\n\u001b[0;32m---> 59\u001b[0;31m   \u001b[0;32mif\u001b[0m \u001b[0misinstance\u001b[0m\u001b[0;34m(\u001b[0m\u001b[0mbytes_or_text\u001b[0m\u001b[0;34m,\u001b[0m \u001b[0m_six\u001b[0m\u001b[0;34m.\u001b[0m\u001b[0mtext_type\u001b[0m\u001b[0;34m)\u001b[0m\u001b[0;34m:\u001b[0m\u001b[0;34m\u001b[0m\u001b[0m\n\u001b[0m\u001b[1;32m     60\u001b[0m     \u001b[0;32mreturn\u001b[0m \u001b[0mbytes_or_text\u001b[0m\u001b[0;34m.\u001b[0m\u001b[0mencode\u001b[0m\u001b[0;34m(\u001b[0m\u001b[0mencoding\u001b[0m\u001b[0;34m)\u001b[0m\u001b[0;34m\u001b[0m\u001b[0m\n\u001b[1;32m     61\u001b[0m   \u001b[0;32melif\u001b[0m \u001b[0misinstance\u001b[0m\u001b[0;34m(\u001b[0m\u001b[0mbytes_or_text\u001b[0m\u001b[0;34m,\u001b[0m \u001b[0mbytes\u001b[0m\u001b[0;34m)\u001b[0m\u001b[0;34m:\u001b[0m\u001b[0;34m\u001b[0m\u001b[0m\n",
      "\u001b[0;31mKeyboardInterrupt\u001b[0m: "
     ]
    }
   ],
   "source": [
    "#y_predicted = train_model(model, batch_size, epochs, x_train[0:20], y_train[0:20], x_test[0:20], y_test[0:20])\n",
    "y_predicts = train_model(model, batch_size, epochs, x_train, y_train, x_test, y_test, plot_epochs=1000)"
   ]
  },
  {
   "cell_type": "code",
   "execution_count": 75,
   "metadata": {},
   "outputs": [],
   "source": [
    "model_copy_7000 = model"
   ]
  },
  {
   "cell_type": "code",
   "execution_count": 55,
   "metadata": {},
   "outputs": [
    {
     "data": {
      "text/plain": [
       "2"
      ]
     },
     "execution_count": 55,
     "metadata": {},
     "output_type": "execute_result"
    }
   ],
   "source": []
  },
  {
   "cell_type": "code",
   "execution_count": 67,
   "metadata": {},
   "outputs": [
    {
     "data": {
      "image/png": "[encoded data removed]",
      "text/plain": [
       "<matplotlib.figure.Figure at 0x7f94e4656ba8>"
      ]
     },
     "metadata": {},
     "output_type": "display_data"
    }
   ],
   "source": [
    "plot_train_data(x_train, y_train)"
   ]
  },
  {
   "cell_type": "code",
   "execution_count": null,
   "metadata": {},
   "outputs": [],
   "source": []
  },
  {
   "cell_type": "code",
   "execution_count": null,
   "metadata": {},
   "outputs": [],
   "source": []
  },
  {
   "cell_type": "code",
   "execution_count": null,
   "metadata": {},
   "outputs": [],
   "source": []
  },
  {
   "cell_type": "code",
   "execution_count": null,
   "metadata": {},
   "outputs": [],
   "source": []
  },
  {
   "cell_type": "code",
   "execution_count": null,
   "metadata": {},
   "outputs": [],
   "source": []
  },
  {
   "cell_type": "code",
   "execution_count": null,
   "metadata": {},
   "outputs": [],
   "source": []
  }
 ],
 "metadata": {
  "kernelspec": {
   "display_name": "TF_1.3_Python3",
   "language": "python",
   "name": "tensorflow"
  },
  "language_info": {
   "codemirror_mode": {
    "name": "ipython",
    "version": 3
   },
   "file_extension": ".py",
   "mimetype": "text/x-python",
   "name": "python",
   "nbconvert_exporter": "python",
   "pygments_lexer": "ipython3",
   "version": "3.5.2"
  }
 },
 "nbformat": 4,
 "nbformat_minor": 2
}
