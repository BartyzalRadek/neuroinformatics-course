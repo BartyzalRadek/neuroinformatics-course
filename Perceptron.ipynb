{
 "cells": [
  {
   "cell_type": "code",
   "execution_count": 1,
   "metadata": {},
   "outputs": [],
   "source": [
    "%matplotlib inline\n",
    "import matplotlib.pyplot as plt\n",
    "import numpy as np\n",
    "import shapely\n",
    "from shapely.geometry import Polygon\n",
    "from shapely.geometry import Point\n",
    "from shapely.geometry import MultiPoint"
   ]
  },
  {
   "cell_type": "code",
   "execution_count": 58,
   "metadata": {},
   "outputs": [],
   "source": [
    "from math import ceil, floor, sin, cos\n",
    "from enum import Enum\n",
    "class Dataset(Enum):\n",
    "    AND_GRID = 0 #Basic AND function\n",
    "    BASIC_GRID = 1 #Basic grid 4x4 with 8xO and 8xX\n",
    "    BOOL_FUNC = 2 #Boolean function of 5 variables\n",
    "    POLYGON = 3 #Polygon shape dividing 2D grid to 2 classes\n",
    "    MULTI_CLASS = 4 #Function dividing 2D grid to 8 classes"
   ]
  },
  {
   "cell_type": "code",
   "execution_count": 65,
   "metadata": {},
   "outputs": [],
   "source": [
    "polygon_coords = [(0.5,0.5),(1,2.5),(2.5,4),(3,3),(2.5,2.5),(3.5,1),(2.5,0),(2,2),(1.5,1),(0.5,0.5)]\n",
    "polygon = Polygon(polygon_coords)\n",
    "\n",
    "def get_top_left_corner(point):\n",
    "    #Returns top left coords of a square the point belongs to\n",
    "    top_left = []\n",
    "    top_left.append(floor(point[0]))\n",
    "    top_left.append(ceil(point[1]))\n",
    "    return top_left\n",
    "\n",
    "def get_multi_class_label(point):\n",
    "    top_left_corner = get_top_left_corner(point)\n",
    "    x = top_left_corner[0]\n",
    "    y = top_left_corner[1]\n",
    "    label = x\n",
    "    if y == 1 or y == 3:\n",
    "        label = x + 4\n",
    "    return label\n",
    "\n",
    "def get_true_label(point, dataset):\n",
    "    label = 0\n",
    "    if dataset == Dataset.POLYGON:\n",
    "        if Point(point).within(polygon):\n",
    "            label = 1\n",
    "    elif dataset == Dataset.AND_GRID:\n",
    "        if point[0] >= 0 and point[1] >= 0:\n",
    "            label = 1\n",
    "    \n",
    "    elif dataset == Dataset.BASIC_GRID:\n",
    "        l = get_multi_class_label(point)\n",
    "        if l in [0,1,3,5]:\n",
    "            label = 1\n",
    "\n",
    "    else:\n",
    "        print(\"Not implemented.\")\n",
    "        \n",
    "    if label == 0:\n",
    "        label = -1\n",
    "        \n",
    "    return label\n",
    "\n",
    "def step_func(x):\n",
    "    if x <= 0:\n",
    "        return -1\n",
    "    else:\n",
    "        return 1"
   ]
  },
  {
   "cell_type": "code",
   "execution_count": 63,
   "metadata": {},
   "outputs": [],
   "source": [
    "def generate_grid_points(count_per_side):\n",
    "    size_x = 4\n",
    "    size_y = 4\n",
    "    start_x = -2\n",
    "    start_y = -2\n",
    "    xs = np.linspace(start_x,start_x+size_x, count_per_side)\n",
    "    ys = np.linspace(start_y,start_y+size_y, count_per_side)\n",
    "    xv, yv = np.meshgrid(xs, ys)\n",
    "    points = np.array(np.zeros(shape=(3,xv.flatten().shape[0]), dtype=float))\n",
    "    points[0] = xv.flatten()\n",
    "    points[1] = yv.flatten()\n",
    "    return points\n",
    "\n",
    "def get_grid_points_with_labels(count_per_side, label_func):\n",
    "    points = generate_grid_points(count_per_side)\n",
    "    labels = []\n",
    "    for i in range(len(points[0])):\n",
    "        point = np.array([points[0][i], points[1][i]])\n",
    "        label = label_func(point)\n",
    "        points[2,i] = label\n",
    "        labels.append(label)\n",
    "\n",
    "    return points\n",
    "\n",
    "def get_dataset_grid_points_with_labels(count_per_side, dataset):\n",
    "    points = generate_grid_points(count_per_side)\n",
    "    labels = []\n",
    "    for i in range(len(points[0])):\n",
    "        point = [points[0][i], points[1][i]]\n",
    "        label = get_true_label(point, dataset)\n",
    "        points[2,i] = label\n",
    "        labels.append(label)\n",
    "\n",
    "    #points[2] = np.array(labels)\n",
    "    return points\n",
    "\n",
    "def plot_dataset(dataset):\n",
    "    if dataset in [Dataset.POLYGON, Dataset.MULTI_CLASS, Dataset.BASIC_GRID, Dataset.AND_GRID]:\n",
    "        points = get_dataset_grid_points_with_labels(100, dataset)\n",
    "        plt.scatter(points[0],points[1],c=points[2])\n",
    "        plt.show()\n",
    "    else:\n",
    "        print(\"Not implemented yet.\")"
   ]
  },
  {
   "cell_type": "code",
   "execution_count": 51,
   "metadata": {},
   "outputs": [],
   "source": [
    "class Perceptron:\n",
    "    def __init__(self, learn_rate):\n",
    "        self.input_dims = 2\n",
    "        self.w = np.random.rand(self.input_dims,)\n",
    "        self.b = 0\n",
    "        self.learn_rate = learn_rate\n",
    "    \n",
    "    def out(self, x):\n",
    "        x = x.flatten()\n",
    "        return step_func(np.dot(x,self.w) + self.b)\n",
    "    \n",
    "    def update_w(self, xs, ys, batch_size):\n",
    "        assert len(x) == len(y)\n",
    "        dw = np.zeros((self.input_dims,))\n",
    "        i = 0\n",
    "        \n",
    "        for x,y in zip(xs,ys):\n",
    "            if i == batch_size:\n",
    "                i = 0\n",
    "                self.w += dw\n",
    "                dw = np.zeros((self.input_dims,))\n",
    "            \n",
    "            dw += self.learn_rate*(y - self.out(x))*x\n",
    "            i+=1\n",
    "        \n",
    "        self.w += dw\n",
    "    \n",
    "    def plot(self):\n",
    "        print(\"W =\", self.w)\n",
    "        print(\"b =\", self.b)\n",
    "        points = get_grid_points_with_labels(100, self.out)\n",
    "        plt.scatter(points[0],points[1],c=points[2])\n",
    "        plt.show()"
   ]
  },
  {
   "cell_type": "code",
   "execution_count": 56,
   "metadata": {},
   "outputs": [],
   "source": [
    "def get_train_data(dataset):\n",
    "    points = get_dataset_grid_points_with_labels(5, dataset)\n",
    "    points = points.T\n",
    "    np.random.shuffle(points)\n",
    "    xs = points[:,0:2]\n",
    "    ys = points[:,2]\n",
    "    return xs, ys"
   ]
  },
  {
   "cell_type": "code",
   "execution_count": 68,
   "metadata": {},
   "outputs": [
    {
     "name": "stdout",
     "output_type": "stream",
     "text": [
      "W = [ 1.  1.]\n",
      "b = 0\n"
     ]
    },
    {
     "data": {
      "image/png": "[encoded data removed]",
      "text/plain": [
       "<matplotlib.figure.Figure at 0x7ff57d44e080>"
      ]
     },
     "metadata": {},
     "output_type": "display_data"
    }
   ],
   "source": [
    "p = Perceptron(learn_rate=0.1)\n",
    "p.w[0] = 1\n",
    "p.w[1] = 1\n",
    "p.b = 0\n",
    "p.plot()"
   ]
  },
  {
   "cell_type": "code",
   "execution_count": 66,
   "metadata": {},
   "outputs": [
    {
     "data": {
      "image/png": "[encoded data removed]",
      "text/plain": [
       "<matplotlib.figure.Figure at 0x7ff57d5d0518>"
      ]
     },
     "metadata": {},
     "output_type": "display_data"
    }
   ],
   "source": [
    "plot_dataset(Dataset.AND_GRID)"
   ]
  },
  {
   "cell_type": "code",
   "execution_count": 54,
   "metadata": {},
   "outputs": [
    {
     "data": {
      "text/plain": [
       "(array([[ 1.,  0.],\n",
       "        [ 3.,  2.],\n",
       "        [ 0.,  3.],\n",
       "        [ 0.,  0.],\n",
       "        [ 3.,  0.],\n",
       "        [ 4.,  0.],\n",
       "        [ 3.,  4.],\n",
       "        [ 0.,  2.],\n",
       "        [ 4.,  4.],\n",
       "        [ 0.,  4.],\n",
       "        [ 2.,  4.],\n",
       "        [ 1.,  1.],\n",
       "        [ 0.,  1.],\n",
       "        [ 4.,  1.],\n",
       "        [ 2.,  3.],\n",
       "        [ 1.,  4.],\n",
       "        [ 2.,  2.],\n",
       "        [ 1.,  2.],\n",
       "        [ 2.,  1.],\n",
       "        [ 2.,  0.],\n",
       "        [ 3.,  1.],\n",
       "        [ 3.,  3.],\n",
       "        [ 4.,  2.],\n",
       "        [ 1.,  3.],\n",
       "        [ 4.,  3.]]),\n",
       " array([-1., -1., -1., -1., -1., -1.,  1., -1.,  1., -1.,  1., -1., -1.,\n",
       "        -1.,  1., -1., -1., -1., -1., -1., -1.,  1., -1., -1.,  1.]))"
      ]
     },
     "execution_count": 54,
     "metadata": {},
     "output_type": "execute_result"
    }
   ],
   "source": [
    "get_train_data(Dataset.AND_GRID)"
   ]
  },
  {
   "cell_type": "code",
   "execution_count": null,
   "metadata": {},
   "outputs": [],
   "source": []
  }
 ],
 "metadata": {
  "kernelspec": {
   "display_name": "Python 3",
   "language": "python",
   "name": "python3"
  },
  "language_info": {
   "codemirror_mode": {
    "name": "ipython",
    "version": 3
   },
   "file_extension": ".py",
   "mimetype": "text/x-python",
   "name": "python",
   "nbconvert_exporter": "python",
   "pygments_lexer": "ipython3",
   "version": "3.5.2"
  }
 },
 "nbformat": 4,
 "nbformat_minor": 2
}
