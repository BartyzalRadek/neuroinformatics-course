{
 "cells": [
  {
   "cell_type": "code",
   "execution_count": 1,
   "metadata": {},
   "outputs": [],
   "source": [
    "%matplotlib inline\n",
    "import matplotlib.pyplot as plt\n",
    "import numpy as np"
   ]
  },
  {
   "cell_type": "code",
   "execution_count": 2,
   "metadata": {},
   "outputs": [],
   "source": [
    "import shapely\n",
    "from shapely.geometry import Polygon\n",
    "from shapely.geometry import Point\n",
    "from shapely.geometry import MultiPoint"
   ]
  },
  {
   "cell_type": "code",
   "execution_count": 3,
   "metadata": {},
   "outputs": [],
   "source": [
    "polygon_coords = [(0.5,0.5),(1,2.5),(2.5,4),(3,3),(2.5,2.5),(3.5,1),(2.5,0),(2,2),(1.5,1),(0.5,0.5)]\n",
    "polygon = Polygon(polygon_coords)\n",
    "\n",
    "def get_true_label(point):\n",
    "    label = 0\n",
    "    if Point(point).within(polygon):\n",
    "        label = 1\n",
    "    return label"
   ]
  },
  {
   "cell_type": "code",
   "execution_count": 42,
   "metadata": {},
   "outputs": [],
   "source": [
    "def generate_grid_points(count_per_side):\n",
    "    size_x = 4\n",
    "    size_y = 4\n",
    "    xs = np.linspace(0,size_x, count_per_side)\n",
    "    ys = np.linspace(0,size_y, count_per_side)\n",
    "    xv, yv = np.meshgrid(xs, ys)\n",
    "    points = np.array(np.zeros(shape=(3,xv.flatten().shape[0]), dtype=float))\n",
    "    points[0] = xv.flatten()\n",
    "    points[1] = yv.flatten()\n",
    "    return points\n",
    "\n",
    "def get_grid_points_with_labels(count_per_side, label_func):\n",
    "    points = generate_grid_points(count_per_side)\n",
    "    labels = []\n",
    "    for i in range(len(points[0])):\n",
    "        point = np.array([points[0][i], points[1][i]])\n",
    "        label = label_func(point)\n",
    "        labels.append(label)\n",
    "\n",
    "    points[2] = np.array(labels)\n",
    "    return points"
   ]
  },
  {
   "cell_type": "code",
   "execution_count": 16,
   "metadata": {},
   "outputs": [],
   "source": [
    "def step_func(x):\n",
    "    if x <= 0:\n",
    "        return 0\n",
    "    else:\n",
    "        return 1\n",
    "\n",
    "def identity(x):\n",
    "    return x\n",
    "\n",
    "def perceptron(x, w, b):\n",
    "    return step_func(x*w + b)"
   ]
  },
  {
   "cell_type": "code",
   "execution_count": 53,
   "metadata": {},
   "outputs": [],
   "source": [
    "class Neuron:\n",
    "    def __init__(self, activation_func, input_dims):\n",
    "        self.act_func = activation_func\n",
    "        self.in_dims = input_dims\n",
    "        self.w = np.random.rand(input_dims,)\n",
    "        self.b = np.random.randn()\n",
    "    \n",
    "    def set_to_AND(self):\n",
    "        self.w = np.ones((self.in_dims,), dtype=np.int)\n",
    "        self.b = -self.in_dims + 1\n",
    "    \n",
    "    def set_to_OR(self):\n",
    "        self.w = np.ones((self.in_dims,), dtype=np.int)\n",
    "        self.b = 0\n",
    "        \n",
    "    def out(self, x):\n",
    "        return self.act_func(np.dot(x,self.w) + self.b)\n",
    "    \n",
    "class Layer:\n",
    "    def __init__(self, no_neurons, activation_func, input_dims):\n",
    "        self.neurons = [Neuron(activation_func, input_dims) for i in range(no_neurons)]\n",
    "    \n",
    "    def out(self, x):\n",
    "        return np.array([n.out(x) for n in self.neurons])\n",
    "\n",
    "\n",
    "class Network:\n",
    "    def __init__(self):\n",
    "        self.layers = []\n",
    "    \n",
    "    def add_layer(self, layer):\n",
    "        self.layers.append(layer)\n",
    "    \n",
    "    def out(self, x):\n",
    "        layer_output = x\n",
    "        for layer in self.layers:\n",
    "            layer_output = layer.out(layer_output)\n",
    "        return layer_output\n",
    "    \n",
    "    def list_layers(self):\n",
    "        for layer in self.layers:\n",
    "            print(len(layer.neurons), \"neurons\")\n",
    "    \n",
    "    def plot(self):\n",
    "        points = get_grid_points_with_labels(100, self.out)\n",
    "        plt.scatter(points[0],points[1],c=points[2])\n",
    "        plt.show()"
   ]
  },
  {
   "cell_type": "code",
   "execution_count": null,
   "metadata": {},
   "outputs": [],
   "source": []
  },
  {
   "cell_type": "code",
   "execution_count": 54,
   "metadata": {},
   "outputs": [
    {
     "name": "stdout",
     "output_type": "stream",
     "text": [
      "1 neurons\n"
     ]
    }
   ],
   "source": [
    "net = Network()\n",
    "net.add_layer(Layer(no_neurons=1, activation_func=step_func, input_dims=2))\n",
    "#net.add_layer(Layer(no_neurons=1, activation_func=step_func, input_dims=2))\n",
    "net.list_layers()"
   ]
  },
  {
   "cell_type": "code",
   "execution_count": 55,
   "metadata": {},
   "outputs": [
    {
     "ename": "ValueError",
     "evalue": "could not broadcast input array from shape (10000,1) into shape (10000)",
     "output_type": "error",
     "traceback": [
      "\u001b[0;31m---------------------------------------------------------------------------\u001b[0m",
      "\u001b[0;31mValueError\u001b[0m                                Traceback (most recent call last)",
      "\u001b[0;32m<ipython-input-55-18fbeb1efb8a>\u001b[0m in \u001b[0;36m<module>\u001b[0;34m()\u001b[0m\n\u001b[0;32m----> 1\u001b[0;31m \u001b[0mnet\u001b[0m\u001b[0;34m.\u001b[0m\u001b[0mplot\u001b[0m\u001b[0;34m(\u001b[0m\u001b[0;34m)\u001b[0m\u001b[0;34m\u001b[0m\u001b[0m\n\u001b[0m",
      "\u001b[0;32m<ipython-input-53-8599d11e41a3>\u001b[0m in \u001b[0;36mplot\u001b[0;34m(self)\u001b[0m\n\u001b[1;32m     43\u001b[0m \u001b[0;34m\u001b[0m\u001b[0m\n\u001b[1;32m     44\u001b[0m     \u001b[0;32mdef\u001b[0m \u001b[0mplot\u001b[0m\u001b[0;34m(\u001b[0m\u001b[0mself\u001b[0m\u001b[0;34m)\u001b[0m\u001b[0;34m:\u001b[0m\u001b[0;34m\u001b[0m\u001b[0m\n\u001b[0;32m---> 45\u001b[0;31m         \u001b[0mpoints\u001b[0m \u001b[0;34m=\u001b[0m \u001b[0mget_grid_points_with_labels\u001b[0m\u001b[0;34m(\u001b[0m\u001b[0;36m100\u001b[0m\u001b[0;34m,\u001b[0m \u001b[0mself\u001b[0m\u001b[0;34m.\u001b[0m\u001b[0mout\u001b[0m\u001b[0;34m)\u001b[0m\u001b[0;34m\u001b[0m\u001b[0m\n\u001b[0m\u001b[1;32m     46\u001b[0m         \u001b[0mplt\u001b[0m\u001b[0;34m.\u001b[0m\u001b[0mscatter\u001b[0m\u001b[0;34m(\u001b[0m\u001b[0mpoints\u001b[0m\u001b[0;34m[\u001b[0m\u001b[0;36m0\u001b[0m\u001b[0;34m]\u001b[0m\u001b[0;34m,\u001b[0m\u001b[0mpoints\u001b[0m\u001b[0;34m[\u001b[0m\u001b[0;36m1\u001b[0m\u001b[0;34m]\u001b[0m\u001b[0;34m,\u001b[0m\u001b[0mc\u001b[0m\u001b[0;34m=\u001b[0m\u001b[0mpoints\u001b[0m\u001b[0;34m[\u001b[0m\u001b[0;36m2\u001b[0m\u001b[0;34m]\u001b[0m\u001b[0;34m)\u001b[0m\u001b[0;34m\u001b[0m\u001b[0m\n\u001b[1;32m     47\u001b[0m         \u001b[0mplt\u001b[0m\u001b[0;34m.\u001b[0m\u001b[0mshow\u001b[0m\u001b[0;34m(\u001b[0m\u001b[0;34m)\u001b[0m\u001b[0;34m\u001b[0m\u001b[0m\n",
      "\u001b[0;32m<ipython-input-42-6ae6d70a0fe0>\u001b[0m in \u001b[0;36mget_grid_points_with_labels\u001b[0;34m(count_per_side, label_func)\u001b[0m\n\u001b[1;32m     18\u001b[0m         \u001b[0mlabels\u001b[0m\u001b[0;34m.\u001b[0m\u001b[0mappend\u001b[0m\u001b[0;34m(\u001b[0m\u001b[0mlabel\u001b[0m\u001b[0;34m)\u001b[0m\u001b[0;34m\u001b[0m\u001b[0m\n\u001b[1;32m     19\u001b[0m \u001b[0;34m\u001b[0m\u001b[0m\n\u001b[0;32m---> 20\u001b[0;31m     \u001b[0mpoints\u001b[0m\u001b[0;34m[\u001b[0m\u001b[0;36m2\u001b[0m\u001b[0;34m]\u001b[0m \u001b[0;34m=\u001b[0m \u001b[0mnp\u001b[0m\u001b[0;34m.\u001b[0m\u001b[0marray\u001b[0m\u001b[0;34m(\u001b[0m\u001b[0mlabels\u001b[0m\u001b[0;34m)\u001b[0m\u001b[0;34m\u001b[0m\u001b[0m\n\u001b[0m\u001b[1;32m     21\u001b[0m     \u001b[0;32mreturn\u001b[0m \u001b[0mpoints\u001b[0m\u001b[0;34m\u001b[0m\u001b[0m\n",
      "\u001b[0;31mValueError\u001b[0m: could not broadcast input array from shape (10000,1) into shape (10000)"
     ]
    }
   ],
   "source": [
    "net.plot()"
   ]
  },
  {
   "cell_type": "code",
   "execution_count": null,
   "metadata": {},
   "outputs": [],
   "source": []
  }
 ],
 "metadata": {
  "kernelspec": {
   "display_name": "Python 3",
   "language": "python",
   "name": "python3"
  },
  "language_info": {
   "codemirror_mode": {
    "name": "ipython",
    "version": 3
   },
   "file_extension": ".py",
   "mimetype": "text/x-python",
   "name": "python",
   "nbconvert_exporter": "python",
   "pygments_lexer": "ipython3",
   "version": "3.5.2"
  }
 },
 "nbformat": 4,
 "nbformat_minor": 2
}
