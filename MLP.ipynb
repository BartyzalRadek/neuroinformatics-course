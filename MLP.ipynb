{
 "cells": [
  {
   "cell_type": "code",
   "execution_count": 1,
   "metadata": {},
   "outputs": [],
   "source": [
    "%matplotlib inline\n",
    "import matplotlib.pyplot as plt\n",
    "import numpy as np"
   ]
  },
  {
   "cell_type": "code",
   "execution_count": 2,
   "metadata": {},
   "outputs": [],
   "source": [
    "import shapely\n",
    "from shapely.geometry import Polygon\n",
    "from shapely.geometry import Point\n",
    "from shapely.geometry import MultiPoint"
   ]
  },
  {
   "cell_type": "code",
   "execution_count": 3,
   "metadata": {},
   "outputs": [],
   "source": [
    "polygon_coords = [(0.5,0.5),(1,2.5),(2.5,4),(3,3),(2.5,2.5),(3.5,1),(2.5,0),(2,2),(1.5,1),(0.5,0.5)]\n",
    "polygon = Polygon(polygon_coords)\n",
    "\n",
    "def get_true_label(point):\n",
    "    label = 0\n",
    "    if Point(point).within(polygon):\n",
    "        label = 1\n",
    "    return label"
   ]
  },
  {
   "cell_type": "code",
   "execution_count": 16,
   "metadata": {},
   "outputs": [],
   "source": [
    "def step_func(x):\n",
    "    if x <= 0:\n",
    "        return 0\n",
    "    else:\n",
    "        return 1\n",
    "\n",
    "def identity(x):\n",
    "    return x\n",
    "\n",
    "def perceptron(x, w, b):\n",
    "    return step_func(x*w + b)"
   ]
  },
  {
   "cell_type": "code",
   "execution_count": 37,
   "metadata": {},
   "outputs": [],
   "source": [
    "class Neuron:\n",
    "    def __init__(self, activation_func, input_dims):\n",
    "        self.act_func = activation_func\n",
    "        self.in_dims = input_dims\n",
    "        self.w = np.random.rand(input_dims,)\n",
    "        self.b = np.random.randn()\n",
    "    \n",
    "    def set_to_AND(self):\n",
    "        self.w = np.ones((self.in_dims,), dtype=np.int)\n",
    "        self.b = -self.in_dims\n",
    "    \n",
    "    def set_to_OR(self):\n",
    "        self.w = np.ones((self.in_dims,), dtype=np.int)\n",
    "        self.b = 0\n",
    "        \n",
    "    def out(self, x):\n",
    "        return self.act_func(x*self.w + self.b)\n",
    "    \n",
    "class Layer:\n",
    "    def __init__(self, no_neurons, activation_func, input_dims):\n",
    "        self.neurons = [Neuron(activation_func, input_dims) for i in range(no_neurons)]\n",
    "    \n",
    "    def out(self, x):\n",
    "        return np.array([n.out(x) for n in self.neurons])\n",
    "\n",
    "\n",
    "class Network:\n",
    "    def __init__(self):\n",
    "        self.layers = []\n",
    "    \n",
    "    def add_layer(self, layer):\n",
    "        self.layers.append(layer)\n",
    "    \n",
    "    def out(self, x):\n",
    "        layer_output = x\n",
    "        for layer in self.layers:\n",
    "            layer_output = layer.out(layer_output)\n",
    "        return layer_output\n",
    "    \n",
    "    def show(self):\n",
    "        for layer in self.layers:\n",
    "            print(len(layer.neurons), \"neurons\")"
   ]
  },
  {
   "cell_type": "code",
   "execution_count": null,
   "metadata": {},
   "outputs": [],
   "source": []
  },
  {
   "cell_type": "code",
   "execution_count": 35,
   "metadata": {},
   "outputs": [],
   "source": [
    "net = Network()\n",
    "net.add_layer(Layer(no_neurons=4, activation_func=step_func, input_dims=2))\n",
    "net.add_layer(Layer(no_neurons=1, activation_func=step_func, input_dims=4))"
   ]
  },
  {
   "cell_type": "code",
   "execution_count": 36,
   "metadata": {},
   "outputs": [
    {
     "name": "stdout",
     "output_type": "stream",
     "text": [
      "4 neurons\n",
      "1 neurons\n"
     ]
    }
   ],
   "source": [
    "net.show()"
   ]
  },
  {
   "cell_type": "code",
   "execution_count": null,
   "metadata": {},
   "outputs": [],
   "source": []
  }
 ],
 "metadata": {
  "kernelspec": {
   "display_name": "Python 3",
   "language": "python",
   "name": "python3"
  },
  "language_info": {
   "codemirror_mode": {
    "name": "ipython",
    "version": 3
   },
   "file_extension": ".py",
   "mimetype": "text/x-python",
   "name": "python",
   "nbconvert_exporter": "python",
   "pygments_lexer": "ipython3",
   "version": "3.5.2"
  }
 },
 "nbformat": 4,
 "nbformat_minor": 2
}
